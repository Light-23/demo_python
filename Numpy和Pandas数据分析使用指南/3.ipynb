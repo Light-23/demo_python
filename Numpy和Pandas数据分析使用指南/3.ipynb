{
 "cells": [
  {
   "cell_type": "markdown",
   "source": [
    "# 三、NumPy数组上的运算\n",
    "-----------------"
   ],
   "metadata": {
    "collapsed": false
   }
  },
  {
   "cell_type": "markdown",
   "source": [
    "\n",
    "## 现在，我们知道如何创建 NumPy 数组，我们可以讨论切片 NumPy 数组的重要主题，以便访问和操作数组数据的子集。 在本章中，我们将介绍每个 NumPy 用户应了解的有关数组切片，算术，带有数组的线性代数以及采用数组方法和函数的知识。"
   ],
   "metadata": {
    "collapsed": false
   }
  },
  {
   "cell_type": "markdown",
   "source": [
    "## 显式选择元素\n",
    "-------------"
   ],
   "metadata": {
    "collapsed": false
   }
  },
  {
   "cell_type": "markdown",
   "source": [
    "### 如果您知道如何选择 Python 列表的子集，那么您将了解有关ndarray切片的大部分知识。 与索引对象的元素相对应的被索引数组元素在新数组中返回。 索引编制的最重要方面是要记住存在多个维度，并且索引编制方法应能够处理这些其他维度。\n",
    "\n",
    "### 明确选择元素时，请记住以下几点：\n",
    "\n",
    "- 阵列的切片与列表的切片非常相似；只需记住可能有多个维度。(array slicing strongly resembles slicing lists; just remember there may be more than one dimensions)\n",
    "- 对于长度为5的一维数组arr1，我们可以用arr1\\[\\[0,2,3\\]\\]来选择元素（列表可以用元组代替）;(for a one-dimensional array arr1 of length 5, we can select element with arr1\\[\\[0,2,3\\]\\](the list could be replaced with a tuple))\n",
    "- 一个5x3的数组arr2可以像arr2\\[\\[0,2,3\\]\\]\\[\\[1,2\\]\\]那样进行子集，但对于ndarrays来说，这种语法并不可取;(A 5x3 array arr2 could be subset like arr2\\[\\[0,2,3\\]\\]\\[\\[1,2\\]\\], but this syntax is not preferred for ndarrays)\n",
    "- 一个等价的和首选的子集是：arr2\\[\\[0,2,3\\],\\[1,2\\]\\]；逗号分隔维度。(an equivalent and preferred subsetting would be: arr2\\[\\[0,2,3\\],\\[1,2\\]\\]; the comma separates dimensions).\n",
    "- 用逗号分隔不同维度的索引对象； 第一个逗号之前的对象显示了如何索引第一维。 在第一个逗号之后是第二个维度的索引，在第二个逗号之后是第三个维度的索引，依此类推。"
   ],
   "metadata": {
    "collapsed": false
   }
  },
  {
   "cell_type": "markdown",
   "source": [
    "## 用冒号切片数组\n",
    "----------------"
   ],
   "metadata": {
    "collapsed": false
   }
  },
  {
   "cell_type": "markdown",
   "source": [
    "### 使用冒号索引ndarray对象的工作类似于使用冒号索引列表。 只要记住，现在有多个维度。 请记住，当冒号之前或之后的点留为空白时，Python 会将索引视为扩展到维的开始或结束。 可以指定第二个冒号，以指示 Python 跳过每隔一行或反转行的顺序，具体取决于第二个冒号下的数目。\n",
    "\n",
    "### 使用冒号对数组进行切片时，需要记住以下几点：\n"
   ],
   "metadata": {
    "collapsed": false
   }
  },
  {
   "cell_type": "code",
   "execution_count": 1,
   "outputs": [],
   "source": [
    "#加载numpy并创建一个数组\n",
    "import numpy as np"
   ],
   "metadata": {
    "collapsed": false
   }
  },
  {
   "cell_type": "code",
   "execution_count": 2,
   "outputs": [
    {
     "name": "stdout",
     "output_type": "stream",
     "text": [
      "[[['Joey' 'Bob' 'Sarah']\n",
      "  ['Margaret' 'Rachel' 'Jim']\n",
      "  ['Wayne' 'Joey' 'Liam']]\n",
      "\n",
      " [['Max' 'Maxine' 'Richard']\n",
      "  ['Harold' 'Curtis' 'Simon']\n",
      "  ['Bob' 'Liam' 'Simon']]\n",
      "\n",
      " [['Wayne' 'Sarah' 'Lucy']\n",
      "  ['Lucy' 'Kurtis' 'Yu']\n",
      "  ['Joey' 'Lex' 'Alex']]]\n"
     ]
    }
   ],
   "source": [
    "arr1= np.array([[[\"Joey\",\"Bob\",\"Sarah\"],\n",
    "                [\"Margaret\",\"Rachel\",\"Jim\"],\n",
    "                [\"Wayne\",\"Joey\",\"Liam\"]],\n",
    "\n",
    "               [[\"Max\",\"Maxine\",\"Richard\"],\n",
    "                [\"Harold\",\"Curtis\",\"Simon\"],\n",
    "                [\"Bob\",\"Liam\",\"Simon\"]],\n",
    "\n",
    "               [[\"Wayne\",\"Sarah\",\"Lucy\"],\n",
    "                [\"Lucy\",\"Kurtis\",\"Yu\"],\n",
    "                [\"Joey\",\"Lex\",\"Alex\"]]])\n",
    "\n",
    "print(arr1)\n"
   ],
   "metadata": {
    "collapsed": false
   }
  },
  {
   "cell_type": "code",
   "execution_count": 13,
   "outputs": [
    {
     "data": {
      "text/plain": "(3, 3, 3)"
     },
     "execution_count": 13,
     "metadata": {},
     "output_type": "execute_result"
    }
   ],
   "source": [
    "#获取数组的维度\n",
    "arr1.shape"
   ],
   "metadata": {
    "collapsed": false
   }
  },
  {
   "cell_type": "code",
   "execution_count": 3,
   "outputs": [
    {
     "name": "stdout",
     "output_type": "stream",
     "text": [
      "[['Joey' 'Margaret' 'Wayne']\n",
      " ['Max' 'Harold' 'Bob']\n",
      " ['Wayne' 'Lucy' 'Joey']]\n"
     ]
    }
   ],
   "source": [
    "arr2=arr1[:,:,0].copy()#新建副本，不改变原数组\n",
    "print(arr2)"
   ],
   "metadata": {
    "collapsed": false
   }
  },
  {
   "cell_type": "code",
   "execution_count": 21,
   "outputs": [
    {
     "data": {
      "text/plain": "(3, 3)"
     },
     "execution_count": 21,
     "metadata": {},
     "output_type": "execute_result"
    }
   ],
   "source": [
    "arr2.shape"
   ],
   "metadata": {
    "collapsed": false
   }
  },
  {
   "cell_type": "code",
   "execution_count": 14,
   "outputs": [],
   "source": [
    "#补充知识 维度问题\n",
    "a = np.arange(120).reshape(2,3,4,5)\n",
    "#得到shape为(2,3,4,5)的张量a，输出a为"
   ],
   "metadata": {
    "collapsed": false
   }
  },
  {
   "cell_type": "code",
   "execution_count": 15,
   "outputs": [
    {
     "name": "stdout",
     "output_type": "stream",
     "text": [
      "[[[[  0   1   2   3   4]\n",
      "   [  5   6   7   8   9]\n",
      "   [ 10  11  12  13  14]\n",
      "   [ 15  16  17  18  19]]\n",
      "\n",
      "  [[ 20  21  22  23  24]\n",
      "   [ 25  26  27  28  29]\n",
      "   [ 30  31  32  33  34]\n",
      "   [ 35  36  37  38  39]]\n",
      "\n",
      "  [[ 40  41  42  43  44]\n",
      "   [ 45  46  47  48  49]\n",
      "   [ 50  51  52  53  54]\n",
      "   [ 55  56  57  58  59]]]\n",
      "\n",
      "\n",
      " [[[ 60  61  62  63  64]\n",
      "   [ 65  66  67  68  69]\n",
      "   [ 70  71  72  73  74]\n",
      "   [ 75  76  77  78  79]]\n",
      "\n",
      "  [[ 80  81  82  83  84]\n",
      "   [ 85  86  87  88  89]\n",
      "   [ 90  91  92  93  94]\n",
      "   [ 95  96  97  98  99]]\n",
      "\n",
      "  [[100 101 102 103 104]\n",
      "   [105 106 107 108 109]\n",
      "   [110 111 112 113 114]\n",
      "   [115 116 117 118 119]]]]\n"
     ]
    }
   ],
   "source": [
    "print(a)"
   ],
   "metadata": {
    "collapsed": false
   }
  },
  {
   "cell_type": "markdown",
   "source": [
    "## 对应a[第0维,第1维,第2维,第3维]，假如我要输出a[:,2,:,4],从后往前看就是，取出最后一维(第三维)的第4列（红色框），取出第2维所有列，取出第1维的第2列（黄色框），取出第0维的所有列\n",
    "--https://blog.csdn.net/qq_55655082/article/details/127400929"
   ],
   "metadata": {
    "collapsed": false
   }
  },
  {
   "cell_type": "code",
   "execution_count": 0,
   "outputs": [],
   "source": [
    "b=a[:,2,:,4]\n",
    "b"
   ],
   "metadata": {
    "collapsed": false
   }
  },
  {
   "cell_type": "markdown",
   "source": [
    "## 同时也可以看到，输出结果的shape变成了两维。因此对于一个numpy多维array，[:,:,:,:,…,:]，将多少个“:”替换为具体的值，最后的结果就降低几维。"
   ],
   "metadata": {
    "collapsed": false
   }
  },
  {
   "cell_type": "code",
   "execution_count": 20,
   "outputs": [
    {
     "data": {
      "text/plain": "(2, 3, 4)"
     },
     "execution_count": 20,
     "metadata": {},
     "output_type": "execute_result"
    }
   ],
   "source": [
    "b.shape"
   ],
   "metadata": {
    "collapsed": false
   }
  },
  {
   "cell_type": "code",
   "execution_count": 54,
   "outputs": [
    {
     "name": "stdout",
     "output_type": "stream",
     "text": [
      "[['Joey' 'Margaret' 'Wayne']\n",
      " ['Max' 'Harold' 'Bob']\n",
      " ['Wayne' 'Lucy' 'Joey']]\n",
      "['Max' 'Harold' 'Bob' 'Margaret' 'Lucy']\n"
     ]
    }
   ],
   "source": [
    "#back\n",
    "print(arr2)\n",
    "#手动选择“十字”元素\n",
    "print(arr2[[1,1,1,0,2],[0,1,2,1,1]])"
   ],
   "metadata": {
    "collapsed": false,
    "pycharm": {
     "name": "#%%ba'c'k\n"
    }
   }
  },
  {
   "cell_type": "code",
   "execution_count": 26,
   "outputs": [
    {
     "name": "stdout",
     "output_type": "stream",
     "text": [
      "[['Joey' 'Monica']\n",
      " ['Max' 'Monica']]\n"
     ]
    }
   ],
   "source": [
    "#从左上角选择元素\n",
    "#upper-left corner\n",
    "print(arr2[:2,:2])"
   ],
   "metadata": {
    "collapsed": false
   }
  },
  {
   "cell_type": "code",
   "execution_count": 28,
   "outputs": [
    {
     "name": "stdout",
     "output_type": "stream",
     "text": [
      "[['Monica' 'Bob']\n",
      " ['Alex' 'Jim']]\n"
     ]
    }
   ],
   "source": [
    "#从右下角选择元素\n",
    "print(arr2[1:,1:])"
   ],
   "metadata": {
    "collapsed": false
   }
  },
  {
   "cell_type": "code",
   "execution_count": 29,
   "outputs": [
    {
     "name": "stdout",
     "output_type": "stream",
     "text": [
      "[['Monica']\n",
      " ['Monica']\n",
      " ['Alex']]\n"
     ]
    }
   ],
   "source": [
    "#从中间一列选择元素，但不展开\n",
    "print(arr2[:,[1]])"
   ],
   "metadata": {
    "collapsed": false
   }
  },
  {
   "cell_type": "code",
   "execution_count": 30,
   "outputs": [
    {
     "name": "stdout",
     "output_type": "stream",
     "text": [
      "['Monica' 'Alex']\n"
     ]
    }
   ],
   "source": [
    "#中间列的最后两行\n",
    "#last two rows of middle column\n",
    "print(arr2[1:,1])"
   ],
   "metadata": {
    "collapsed": false
   }
  },
  {
   "cell_type": "code",
   "execution_count": 0,
   "outputs": [],
   "source": [
    "#反转行顺序\n",
    "#Reverse row order\n",
    "print(arr2[::-1])"
   ],
   "metadata": {
    "collapsed": false
   }
  },
  {
   "cell_type": "markdown",
   "source": [
    "## b = a[i:j:s]. 注意:当s<0时，i缺省时，默认为-1. j缺省时，默认为-len(a)-1,所以a[::-1]相当于 a[-1:-len(a)-1:-1]，也就是从最后一个元素到第一个元素复制一遍，即倒序。"
   ],
   "metadata": {
    "collapsed": false
   }
  },
  {
   "cell_type": "code",
   "execution_count": 0,
   "outputs": [],
   "source": [
    "#选择奇数列\n",
    "#select odd-number columns\n",
    "print(arr2[:, 0:3:2])"
   ],
   "metadata": {
    "collapsed": false
   }
  },
  {
   "cell_type": "markdown",
   "source": [
    "## arr [start: end: step]，start缺省时，从左边index=0开始，end缺省时，取到最右边index=len(arr)-1，step缺省时，默认为+1。\n",
    "——https://blog.csdn.net/weixin_41888257/article/details/104359002"
   ],
   "metadata": {
    "collapsed": false
   }
  },
  {
   "cell_type": "markdown",
   "source": [
    "## 转到更复杂的的三维数组,\n",
    "## 选择一个2x2x2的角立方体\n",
    "## choose a 2x2x2 corner cube"
   ],
   "metadata": {
    "collapsed": false
   }
  },
  {
   "cell_type": "code",
   "execution_count": 39,
   "outputs": [
    {
     "name": "stdout",
     "output_type": "stream",
     "text": [
      "[[['Joey' 'Chandler' 'Ross']\n",
      "  ['Monica' 'Phoebe' 'Rachel']\n",
      "  ['Wayne' 'Gretzky' 'Messier']]\n",
      "\n",
      " [['Max' 'Chandler' 'Ross']\n",
      "  ['Monica' 'Phoebe' 'Rachel']\n",
      "  ['Bob' 'Lex' 'Luther']]\n",
      "\n",
      " [['Lucy' 'Yu' 'Han']\n",
      "  ['Alex' 'Sarah' 'Lily']\n",
      "  ['Jim' 'Tom' 'Jack']]]\n"
     ]
    },
    {
     "data": {
      "text/plain": "(3, 3, 3)"
     },
     "execution_count": 39,
     "metadata": {},
     "output_type": "execute_result"
    }
   ],
   "source": [
    "print(arr1)\n",
    "\n",
    "arr1.shape"
   ],
   "metadata": {
    "collapsed": false
   }
  },
  {
   "cell_type": "code",
   "execution_count": 36,
   "outputs": [
    {
     "name": "stdout",
     "output_type": "stream",
     "text": [
      "[[['Joey' 'Chandler']\n",
      "  ['Monica' 'Phoebe']]\n",
      "\n",
      " [['Max' 'Chandler']\n",
      "  ['Monica' 'Phoebe']]]\n"
     ]
    }
   ],
   "source": [
    "#choose a 2x2x2 corner cube\n",
    "#top-left corner\n",
    "print(arr1[:2,:2,:2])"
   ],
   "metadata": {
    "collapsed": false
   }
  },
  {
   "cell_type": "code",
   "execution_count": 42,
   "outputs": [
    {
     "name": "stdout",
     "output_type": "stream",
     "text": [
      "(3, 3)\n"
     ]
    }
   ],
   "source": [
    "print(arr1[:,1,:].shape)# Not three dimensions"
   ],
   "metadata": {
    "collapsed": false
   }
  },
  {
   "cell_type": "markdown",
   "source": [
    "我们可以看到该中间切片是二维数组。 因此，如果我们希望保留维数，那么另一种方法是使用 NumPy 中的新轴对象插入一个额外的维数："
   ],
   "metadata": {
    "collapsed": false
   }
  },
  {
   "cell_type": "code",
   "execution_count": 43,
   "outputs": [
    {
     "name": "stdout",
     "output_type": "stream",
     "text": [
      "[[['Monica' 'Phoebe' 'Rachel']]\n",
      "\n",
      " [['Monica' 'Phoebe' 'Rachel']]\n",
      "\n",
      " [['Alex' 'Sarah' 'Lily']]]\n"
     ]
    }
   ],
   "source": [
    "# 选择中间片，但保留维度\n",
    "# select middle slice, but keep dimensions\n",
    "print(arr1[:,1,np.newaxis,:])"
   ],
   "metadata": {
    "collapsed": false
   }
  },
  {
   "cell_type": "markdown",
   "source": [
    "我们看到这个对象实际上是三维的："
   ],
   "metadata": {
    "collapsed": false
   }
  },
  {
   "cell_type": "code",
   "execution_count": 45,
   "outputs": [
    {
     "name": "stdout",
     "output_type": "stream",
     "text": [
      "(3, 1, 3)\n"
     ]
    }
   ],
   "source": [
    "print(arr1[:,1,np.newaxis,:].shape)"
   ],
   "metadata": {
    "collapsed": false
   }
  },
  {
   "cell_type": "markdown",
   "source": [
    "尽管事实上其中的一个维度长度为1"
   ],
   "metadata": {
    "collapsed": false
   }
  },
  {
   "cell_type": "markdown",
   "source": [
    "## 高级索引\n",
    "-----------"
   ],
   "metadata": {
    "collapsed": false
   }
  },
  {
   "cell_type": "markdown",
   "source": [
    "现在让我们讨论更高级的索引技术。 我们可以使用其他`ndarray`为`ndarray`对象建立索引。 我们可以使用包含与我们希望选择的`ndarray`的索引对应的整数的`ndarray`对象或布尔值的`ndarray`对象来切片`ndarray`对象，其中值`true`表示切片中应包含一个单元格。\n",
    "\n",
    "选择不是`Wayne`的`arr2`元素，这是结果："
   ],
   "metadata": {
    "collapsed": false
   }
  },
  {
   "cell_type": "code",
   "execution_count": 46,
   "outputs": [
    {
     "name": "stdout",
     "output_type": "stream",
     "text": [
      "['Joey' 'Monica' 'Max' 'Monica' 'Bob' 'Lucy' 'Alex' 'Jim']\n"
     ]
    }
   ],
   "source": [
    "# 选择所有不属于Wayne的元素\n",
    "# Select all entries that are not Wayne\n",
    "print(arr2[arr2 != \"Wayne\"])"
   ],
   "metadata": {
    "collapsed": false
   }
  },
  {
   "cell_type": "markdown",
   "source": [
    "`Wayne`不包括在选择中，这是为执行该索引而生成的数组："
   ],
   "metadata": {
    "collapsed": false
   }
  },
  {
   "cell_type": "code",
   "execution_count": 47,
   "outputs": [
    {
     "name": "stdout",
     "output_type": "stream",
     "text": [
      "[[ True  True False]\n",
      " [ True  True  True]\n",
      " [ True  True  True]]\n"
     ]
    }
   ],
   "source": [
    "# 对布尔数组索引的浅探\n",
    "# A peek at the indexing boolean array\n",
    "print(arr2 != \"Wayne\")"
   ],
   "metadata": {
    "collapsed": false
   }
  },
  {
   "cell_type": "markdown",
   "source": [
    "除了内容为`Wayne`的地方，到处都是`True`。\n",
    "\n",
    "另一种更高级的技术是使用整数数组进行选择，以标识所需的元素。 因此，在这里，我们将创建两个用于切片的数组："
   ],
   "metadata": {
    "collapsed": false
   }
  },
  {
   "cell_type": "code",
   "execution_count": 53,
   "outputs": [
    {
     "name": "stdout",
     "output_type": "stream",
     "text": [
      "[['Joey' 'Wayne']\n",
      " ['Wayne' 'Bob']]\n"
     ]
    }
   ],
   "source": [
    "# 高效的选择一个存放角落数据的数组\n",
    "# Select, effectively, an array holding the data in the corners\n",
    "idx0 = np.array([[0,0],\n",
    "                 [2,-2]])\n",
    "idx1 = np.array([[0,2],\n",
    "                 [0,2]])\n",
    "print(arr2[idx0,idx1])"
   ],
   "metadata": {
    "collapsed": false
   }
  },
  {
   "cell_type": "markdown",
   "source": [
    "第一个数组中的第一个 0 表示第一个坐标为零，第二个数组中的第一个 0 表示第二个坐标为零，这由这两个数组列出的顺序指定。因此，所得数组的第一行和第一列的元素为`[0, 0]`。 在第一行和第二列中，我们有原始数组中的元素`[0, 2]`。 然后，在第二行和第一列中，我们具有原始数组的第三行和第一列中的元素。 注意，这是`Wayne`。\n",
    "\n",
    "然后，我们有了原始数组的第三行和第三列中的元素，该元素对应于`Bob`。\n",
    "\n",
    "让我们来看一下更复杂的数组。 例如，我们可以看到`arr1`以外的所有条目`Curtis`:"
   ],
   "metadata": {
    "collapsed": false
   }
  },
  {
   "cell_type": "code",
   "execution_count": 55,
   "outputs": [
    {
     "name": "stdout",
     "output_type": "stream",
     "text": [
      "['Joey' 'Bob' 'Sarah' 'Margaret' 'Rachel' 'Jim' 'Wayne' 'Joey' 'Liam'\n",
      " 'Max' 'Maxine' 'Richard' 'Harold' 'Simon' 'Bob' 'Liam' 'Simon' 'Wayne'\n",
      " 'Sarah' 'Lucy' 'Lucy' 'Kurtis' 'Yu' 'Joey' 'Lex' 'Alex']\n"
     ]
    }
   ],
   "source": [
    "# 所有不属于Curtis的元素\n",
    "# All entries that are not Curtis\n",
    "print(arr1[arr1 != \"Curtis\"])"
   ],
   "metadata": {
    "collapsed": false
   }
  },
  {
   "cell_type": "markdown",
   "source": [
    "这是索引数组的样子："
   ],
   "metadata": {
    "collapsed": false
   }
  },
  {
   "cell_type": "code",
   "execution_count": 56,
   "outputs": [
    {
     "name": "stdout",
     "output_type": "stream",
     "text": [
      "[[[ True  True  True]\n",
      "  [ True  True  True]\n",
      "  [ True  True  True]]\n",
      "\n",
      " [[ True  True  True]\n",
      "  [ True False  True]\n",
      "  [ True  True  True]]\n",
      "\n",
      " [[ True  True  True]\n",
      "  [ True  True  True]\n",
      "  [ True  True  True]]]\n"
     ]
    }
   ],
   "source": [
    "# A peek at the indexing array\n",
    "print(arr1 != \"Curtis\")"
   ],
   "metadata": {
    "collapsed": false
   }
  },
  {
   "cell_type": "markdown",
   "source": [
    "在这里，我们看到了一个更为复杂的切片方案："
   ],
   "metadata": {
    "collapsed": false
   }
  },
  {
   "cell_type": "code",
   "execution_count": 71,
   "outputs": [
    {
     "name": "stdout",
     "output_type": "stream",
     "text": [
      "[[['Joey' 'Wayne']\n",
      "  ['Sarah' 'Liam']]\n",
      "\n",
      " [['Wayne' 'Joey']\n",
      "  ['Lucy' 'Alex']]]\n"
     ]
    }
   ],
   "source": [
    "# 得到一个2x2x2的角元素矩阵\n",
    "# Get a 2x2x2 matrix of the corner elements\n",
    "\n",
    "#Row indices 行索引\n",
    "idx0 = np.array([[[0,0],\n",
    "                  [0,0]],\n",
    "\n",
    "                 [[2,2],\n",
    "                 [2,2]]])\n",
    "\n",
    "#Column indices 列索引\n",
    "idx1 = np.array([[[0,2],\n",
    "                  [0,2]],\n",
    "\n",
    "                 [[0,2],\n",
    "                 [0,2]]])\n",
    "\n",
    "#Depth indices 深度索引\n",
    "idx2= np.array([[[0,0],\n",
    "                 [2,2]],\n",
    "\n",
    "                 [[0,0],\n",
    "                 [2,2]]])\n",
    "\n",
    "# Notice that the (0,0,0) element of the sliced array will be (0,0,0,) of arr1,\n",
    "# (1,0,0) of sliced array will be element (2,0,0) of arr1,\n",
    "# (0,1,0) of sliced array will be element (0,2,0) of arr1,\n",
    "# and so on.\n",
    "print(arr1[idx0,idx1,idx2])#print arr--输出数组"
   ],
   "metadata": {
    "collapsed": false
   }
  },
  {
   "cell_type": "markdown",
   "source": [
    "`idx0`指示如何选择第一个坐标，`idx1`指示如何选择第二个坐标，`idx2`指示如何选择第三个坐标。 在这种情况下，我们在原始数组的每个四分之一元素中选择对象。\n",
    "\n",
    "因此，我实际上已经编写了一些代码，可以实际演示哪些元素将显示在新数组中，即，原始数组中的坐标对新数组中的元素而言是什么。\n",
    "\n",
    "例如，我们得到的是一个二维矩阵`2 x 2 x 2`。如果我们想知道切片对象的第二个块 第二行、第一列的内容，则可以使用如下代码 ："
   ],
   "metadata": {
    "collapsed": false
   }
  },
  {
   "cell_type": "code",
   "execution_count": 65,
   "outputs": [
    {
     "name": "stdout",
     "output_type": "stream",
     "text": [
      "(2, 0, 2)\n"
     ]
    }
   ],
   "source": [
    "# In fact, if you want to know which element of arr1 will be in the sliced array,\n",
    "# here's some code that will tell you:\n",
    "# 事实上，如果您想知道arr1的哪个元素将出现在切片数组中，\n",
    "# 这里有一些代码可以告诉您：\n",
    "\n",
    "coord =(1,1,0) #Coord in sliced array 坐标在切片数组中\n",
    "print((idx0[coord],idx1[coord],idx2[coord])) #print(())——输出元组"
   ],
   "metadata": {
    "collapsed": false
   }
  },
  {
   "cell_type": "markdown",
   "source": [
    "那是原始数组的元素 2、0、2。"
   ],
   "metadata": {
    "collapsed": false
   }
  },
  {
   "cell_type": "markdown",
   "source": [
    "## 拓展数组\n",
    "-----------\n"
   ],
   "metadata": {
    "collapsed": false
   }
  },
  {
   "cell_type": "markdown",
   "source": [
    "连接函数允许使用屏幕上显示的语法沿公共轴将数组绑定在一起。 该方法要求数组沿未用于绑定的轴具有相似的形状。 结果就是全新的` ndarray `，这是将数组粘合在一起的产物。 为此，还存在其他类似函数，例如堆叠。 我们不会涵盖所有内容。\n",
    "\n",
    "假设我们想向` arr2 `添加更多行。 使用以下代码执行此操作："
   ],
   "metadata": {
    "collapsed": false
   }
  },
  {
   "cell_type": "code",
   "execution_count": 85,
   "outputs": [
    {
     "name": "stdout",
     "output_type": "stream",
     "text": [
      "[['Joey' 'Margaret' 'Wayne']\n",
      " ['Max' 'Harold' 'Bob']\n",
      " ['Wayne' 'Lucy' 'Joey']\n",
      " ['Sam' 'Joe' 'Bill']]\n"
     ]
    }
   ],
   "source": [
    "# 添加新行\n",
    "# Add a new row\n",
    "arr2_1 = np.concatenate((arr2, np.array([[\"Sam\",\"Joe\", \"Bill\"]])), axis=0)\n",
    "print(arr2_1)"
   ],
   "metadata": {
    "collapsed": false
   }
  },
  {
   "cell_type": "markdown",
   "source": [
    "我们创建一个全新的数组。 在这种情况下，我们不需要使用`copy`方法。 结果如上\n",
    "\n",
    "我们在此数组中添加了第四行，将新数组与数据（数组中的名称）绑定在一起。 它仍然是一个二维数组。 例如，请参见以下示例中的数组。 您可以清楚地看到这是二维的，但只有一列，而前一个只有一列，这是我们在此新列中添加后的结果："
   ],
   "metadata": {
    "collapsed": false
   }
  },
  {
   "cell_type": "code",
   "execution_count": 87,
   "outputs": [
    {
     "name": "stdout",
     "output_type": "stream",
     "text": [
      "[['Joey' 'Margaret' 'Wayne' 'Maya']\n",
      " ['Max' 'Harold' 'Bob' 'Nana']\n",
      " ['Wayne' 'Lucy' 'Joey' 'Gus']\n",
      " ['Sam' 'Joe' 'Bill' 'Grey']]\n"
     ]
    }
   ],
   "source": [
    "# 添加新列\n",
    "# Add a new column\n",
    "arr2_2 = np.concatenate((arr2_1, np.array([[\"Maya\"],[\"Nana\"], [\"Gus\"],[\"Grey\"]])), axis=1)\n",
    "print(arr2_2)"
   ],
   "metadata": {
    "collapsed": false
   }
  },
  {
   "cell_type": "markdown",
   "source": [
    "我们将继续对数组进行数学运算。"
   ],
   "metadata": {
    "collapsed": false
   }
  },
  {
   "cell_type": "markdown",
   "source": [
    "## 带数组的算术和线性代数\n",
    "--------------------------\n",
    "现在，我们已经了解了如何使用 NumPy 数组创建和访问信息，让我们介绍一下可以对数组执行的一些数值运算。 在本节中，我们将讨论使用 NumPy 数组的算法。 我们还将讨论将 NumPy 数组用于线性代数。"
   ],
   "metadata": {
    "collapsed": false
   }
  },
  {
   "cell_type": "markdown",
   "source": [
    "## 两个形状相等的数组的算术\n",
    "---------------------------\n",
    "NumPy 数组的算术总是按组件进行的。 这意味着，如果我们有两个形状相同的矩阵，则通过匹配两个矩阵中的相应分量并将它们相加来完成诸如加法之类的操作。 对于任何算术运算都是如此，无论是加法，减法，乘法，除法，幂，甚至是逻辑运算符。\n",
    "\n",
    "让我们来看一个例子。 首先，我们创建两个随机数据数组："
   ],
   "metadata": {
    "collapsed": false
   }
  },
  {
   "cell_type": "code",
   "execution_count": 9,
   "outputs": [
    {
     "name": "stdout",
     "output_type": "stream",
     "text": [
      "[[[  84  160  -18]\n",
      "  [ -56  -71    0]\n",
      "  [-122   -7  -65]]\n",
      "\n",
      " [[-105   -6    0]\n",
      "  [-166  108  103]\n",
      "  [ 112  -90   23]]\n",
      "\n",
      " [[ -25  -45   20]\n",
      "  [-158   50   11]\n",
      "  [  76  -11   43]]]\n"
     ]
    }
   ],
   "source": [
    "import numpy as np\n",
    "from numpy.random import randn\n",
    "import numpy.linalg as ln\n",
    "\n",
    "arr1 = np.array(randn(3,3,3)*10, dtype=np.int64)\n",
    "arr2 = np.array(randn(3,3,3)*10, dtype=np.int64)\n",
    "print(arr1)"
   ],
   "metadata": {
    "collapsed": false
   }
  },
  {
   "cell_type": "code",
   "execution_count": 10,
   "outputs": [
    {
     "name": "stdout",
     "output_type": "stream",
     "text": [
      "[[[  8  -9  -5]\n",
      "  [ 10 -13  -8]\n",
      "  [ 25  -8   8]]\n",
      "\n",
      " [[ 11 -13 -31]\n",
      "  [  6  -1   3]\n",
      "  [ 23  11   6]]\n",
      "\n",
      " [[-11   5   0]\n",
      "  [  2   2   5]\n",
      "  [ -5   9   2]]]\n"
     ]
    }
   ],
   "source": [
    "print(arr2)"
   ],
   "metadata": {
    "collapsed": false
   }
  },
  {
   "cell_type": "markdown",
   "source": [
    "虽然我用涉及两个数组的算术方式解释了这些想法，但正如我们在此处看到的那样，它可能涉及数组和标量，我们将`100`添加到`arr1`中的每个元素中："
   ],
   "metadata": {
    "collapsed": false
   }
  },
  {
   "cell_type": "code",
   "execution_count": 11,
   "outputs": [
    {
     "name": "stdout",
     "output_type": "stream",
     "text": [
      "[[[184 260  82]\n",
      "  [ 44  29 100]\n",
      "  [-22  93  35]]\n",
      "\n",
      " [[ -5  94 100]\n",
      "  [-66 208 203]\n",
      "  [212  10 123]]\n",
      "\n",
      " [[ 75  55 120]\n",
      "  [-58 150 111]\n",
      "  [176  89 143]]]\n"
     ]
    }
   ],
   "source": [
    "print(arr1 + 100)"
   ],
   "metadata": {
    "collapsed": false
   }
  },
  {
   "cell_type": "code",
   "execution_count": 12,
   "outputs": [
    {
     "name": "stdout",
     "output_type": "stream",
     "text": [
      "[[[ 42.   80.   -9. ]\n",
      "  [-28.  -35.5   0. ]\n",
      "  [-61.   -3.5 -32.5]]\n",
      "\n",
      " [[-52.5  -3.    0. ]\n",
      "  [-83.   54.   51.5]\n",
      "  [ 56.  -45.   11.5]]\n",
      "\n",
      " [[-12.5 -22.5  10. ]\n",
      "  [-79.   25.    5.5]\n",
      "  [ 38.   -5.5  21.5]]]\n"
     ]
    }
   ],
   "source": [
    "# 接下来，我们将arr1中的每个元素除以2：\n",
    "print(arr1 / 2)"
   ],
   "metadata": {
    "collapsed": false
   }
  },
  {
   "cell_type": "code",
   "execution_count": 13,
   "outputs": [
    {
     "name": "stdout",
     "output_type": "stream",
     "text": [
      "[[[ 7056 25600   324]\n",
      "  [ 3136  5041     0]\n",
      "  [14884    49  4225]]\n",
      "\n",
      " [[11025    36     0]\n",
      "  [27556 11664 10609]\n",
      "  [12544  8100   529]]\n",
      "\n",
      " [[  625  2025   400]\n",
      "  [24964  2500   121]\n",
      "  [ 5776   121  1849]]]\n"
     ]
    }
   ],
   "source": [
    "# 接下来，将arr1中的每个元素提升为2的幂：\n",
    "print(arr1 ** 2)"
   ],
   "metadata": {
    "collapsed": false
   }
  },
  {
   "cell_type": "code",
   "execution_count": 14,
   "outputs": [
    {
     "name": "stdout",
     "output_type": "stream",
     "text": [
      "[[[  672 -1440    90]\n",
      "  [ -560   923     0]\n",
      "  [-3050    56  -520]]\n",
      "\n",
      " [[-1155    78     0]\n",
      "  [ -996  -108   309]\n",
      "  [ 2576  -990   138]]\n",
      "\n",
      " [[  275  -225     0]\n",
      "  [ -316   100    55]\n",
      "  [ -380   -99    86]]]\n"
     ]
    }
   ],
   "source": [
    "# 接下来，我们将arr1和arr2的内容相乘：\n",
    "print(arr1 * arr2)"
   ],
   "metadata": {
    "collapsed": false
   }
  },
  {
   "cell_type": "markdown",
   "source": [
    "请注意，arr1和arr2的形状相似。在这里，我们进行了涉及这两个数组的更复杂的计算："
   ],
   "metadata": {
    "collapsed": false
   }
  },
  {
   "cell_type": "code",
   "execution_count": 15,
   "outputs": [
    {
     "name": "stdout",
     "output_type": "stream",
     "text": [
      "[[[7.05600000e+03 1.09832290e-05            nan]\n",
      "  [           nan            nan            inf]\n",
      "  [           nan 2.04081633e-02 4.22500000e+03]]\n",
      "\n",
      " [[           nan            nan            inf]\n",
      "  [           nan 3.10201620e-01 3.23316537e+01]\n",
      "  [6.06741401e+11            nan 1.10304125e+02]]\n",
      "\n",
      " [[           nan            nan 1.00000000e+00]\n",
      "  [           nan 7.07106781e+00 2.00327632e+01]\n",
      "  [4.45638814e-03            nan 6.55743852e+00]]]\n"
     ]
    },
    {
     "name": "stderr",
     "output_type": "stream",
     "text": [
      "C:\\Users\\10071\\AppData\\Local\\Temp\\ipykernel_1856\\3861567326.py:1: RuntimeWarning: divide by zero encountered in power\n",
      "  print(arr1 ** (arr2 / 4))  # Watch out for nan and inf!\n",
      "C:\\Users\\10071\\AppData\\Local\\Temp\\ipykernel_1856\\3861567326.py:1: RuntimeWarning: invalid value encountered in power\n",
      "  print(arr1 ** (arr2 / 4))  # Watch out for nan and inf!\n"
     ]
    }
   ],
   "source": [
    "print(arr1 ** (arr2 / 4))  # Watch out for nan and inf!"
   ],
   "metadata": {
    "collapsed": false
   }
  },
  {
   "cell_type": "markdown",
   "source": [
    "注意，此计算最终产生了`inf`和`nan`。"
   ],
   "metadata": {
    "collapsed": false
   }
  },
  {
   "cell_type": "markdown",
   "source": [
    "## 广播\n",
    "--------------\n",
    "到目前为止，我们已经处理了两个形状相同的数组。 实际上，这不是必需的。 尽管我们不一定要添加两个任意形状的数组，但是在某些情况下，我们可以合理地对不同形状的数组执行算术运算。 从某种意义上说，较小数组中的信息被视为属于相同形状但具有重复值的数组。 让我们看看实际的广播行为。\n",
    "\n",
    "现在，回想一下数组`arr1`为`3 x 3 x 3`； 也就是说，它具有三行，三列和三个平板。 在这里，我们创建一个对象`arr3`："
   ],
   "metadata": {
    "collapsed": false
   }
  },
  {
   "cell_type": "code",
   "execution_count": 38,
   "outputs": [
    {
     "name": "stdout",
     "output_type": "stream",
     "text": [
      "[[[0 1 0]]]\n",
      "(1, 1, 3)\n"
     ]
    }
   ],
   "source": [
    "# 生成一个形状为(1,1,3)，第一列和第三列为0的随机整数数组\n",
    "# Generate a random integer array with shape (1,1,3), with the first column and the third column as 0\n",
    "arr3 = np.array(randn(1,1,3)*10, dtype=np.int64)\n",
    "arr3[:, :, 0] = 0\n",
    "arr3[:, :, 2] = 0\n",
    "arr3[:, :, 1] = 1   # Set the middle column to 1\n",
    "print(arr3)\n",
    "print(arr3.shape)"
   ],
   "metadata": {
    "collapsed": false
   }
  },
  {
   "cell_type": "markdown",
   "source": [
    "该对象的形状为`(1, 1, 3)`。 因此，此对象的平板数与`arr1`相同，但只有一行和一列。 这是可以应用广播的情况； 实际上，这是结果："
   ],
   "metadata": {
    "collapsed": false
   }
  },
  {
   "cell_type": "code",
   "execution_count": 39,
   "outputs": [
    {
     "name": "stdout",
     "output_type": "stream",
     "text": [
      "[[[  0 160   0]\n",
      "  [  0 -71   0]\n",
      "  [  0  -7   0]]\n",
      "\n",
      " [[  0  -6   0]\n",
      "  [  0 108   0]\n",
      "  [  0 -90   0]]\n",
      "\n",
      " [[  0 -45   0]\n",
      "  [  0  50   0]\n",
      "  [  0 -11   0]]]\n"
     ]
    }
   ],
   "source": [
    "print(arr1 * arr3)"
   ],
   "metadata": {
    "collapsed": false
   }
  },
  {
   "cell_type": "markdown",
   "source": [
    "我将第`0`列和第`2`列设为`0`，将中间列设为`1`。因此，结果是我有效地选择了中间列并将其他两列设置为`0`。有效地复制了该对象，因此好像我将`arr1`乘以一个对象一样，其中第一列为`0`，第三列为`0`，第二列为`1`。\n",
    "\n",
    "现在，让我们看看如果切换此对象的尺寸会发生什么？ 因此，现在它具有一列，一个平板和三行："
   ],
   "metadata": {
    "collapsed": false
   }
  },
  {
   "cell_type": "code",
   "execution_count": 40,
   "outputs": [
    {
     "name": "stdout",
     "output_type": "stream",
     "text": [
      "[[[0]\n",
      "  [1]\n",
      "  [0]]]\n"
     ]
    }
   ],
   "source": [
    "arr4 = arr3.transpose((0,2, 1))\n",
    "print(arr4)"
   ],
   "metadata": {
    "collapsed": false
   }
  },
  {
   "cell_type": "code",
   "execution_count": 41,
   "outputs": [
    {
     "name": "stdout",
     "output_type": "stream",
     "text": [
      "[[[   0    0    0]\n",
      "  [ -56  -71    0]\n",
      "  [   0    0    0]]\n",
      "\n",
      " [[   0    0    0]\n",
      "  [-166  108  103]\n",
      "  [   0    0    0]]\n",
      "\n",
      " [[   0    0    0]\n",
      "  [-158   50   11]\n",
      "  [   0    0    0]]]\n"
     ]
    }
   ],
   "source": [
    "# 结果如下\n",
    "print(arr1 * arr4)"
   ],
   "metadata": {
    "collapsed": false
   }
  },
  {
   "cell_type": "markdown",
   "source": [
    "现在，让我们进行另一个换位。 我们将最终将一个具有三个平板的对象相乘，中间的平板由`1`填充。 因此，当我进行乘法运算时，会发生以下情况："
   ],
   "metadata": {
    "collapsed": false
   }
  },
  {
   "cell_type": "code",
   "execution_count": 42,
   "outputs": [
    {
     "name": "stdout",
     "output_type": "stream",
     "text": [
      "[[[0]]\n",
      "\n",
      " [[1]]\n",
      "\n",
      " [[0]]]\n"
     ]
    }
   ],
   "source": [
    "arr5 = arr3.transpose((2,0, 1))\n",
    "print(arr5)"
   ],
   "metadata": {
    "collapsed": false
   }
  },
  {
   "cell_type": "code",
   "execution_count": 43,
   "outputs": [
    {
     "name": "stdout",
     "output_type": "stream",
     "text": [
      "[[[   0    0    0]\n",
      "  [   0    0    0]\n",
      "  [   0    0    0]]\n",
      "\n",
      " [[-105   -6    0]\n",
      "  [-166  108  103]\n",
      "  [ 112  -90   23]]\n",
      "\n",
      " [[   0    0    0]\n",
      "  [   0    0    0]\n",
      "  [   0    0    0]]]\n"
     ]
    }
   ],
   "source": [
    "print(arr1 * arr5)"
   ],
   "metadata": {
    "collapsed": false
   }
  },
  {
   "cell_type": "code",
   "execution_count": null,
   "outputs": [],
   "source": [],
   "metadata": {
    "collapsed": false
   }
  }
 ],
 "metadata": {
  "kernelspec": {
   "display_name": "Python 3",
   "language": "python",
   "name": "python3"
  },
  "language_info": {
   "codemirror_mode": {
    "name": "ipython",
    "version": 2
   },
   "file_extension": ".py",
   "mimetype": "text/x-python",
   "name": "python",
   "nbconvert_exporter": "python",
   "pygments_lexer": "ipython2",
   "version": "2.7.6"
  }
 },
 "nbformat": 4,
 "nbformat_minor": 0
}
