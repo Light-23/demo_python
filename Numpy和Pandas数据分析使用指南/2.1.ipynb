{
 "cells": [
  {
   "cell_type": "code",
   "execution_count": 1,
   "outputs": [],
   "source": [
    "import numpy as np"
   ],
   "metadata": {
    "collapsed": false
   }
  },
  {
   "cell_type": "code",
   "execution_count": 2,
   "outputs": [],
   "source": [
    "#Creat arrays of ones, but with different dt\n",
    "int_ones = np.ones((2,2), dtype = np.int8)"
   ],
   "metadata": {
    "collapsed": false
   }
  },
  {
   "cell_type": "code",
   "execution_count": 3,
   "outputs": [
    {
     "data": {
      "text/plain": "array([[1, 1],\n       [1, 1]], dtype=int8)"
     },
     "execution_count": 3,
     "metadata": {},
     "output_type": "execute_result"
    }
   ],
   "source": [
    "int_ones"
   ],
   "metadata": {
    "collapsed": false
   }
  },
  {
   "cell_type": "code",
   "execution_count": 50,
   "outputs": [
    {
     "data": {
      "text/plain": "array([5, 0, 8, 0, 8])"
     },
     "execution_count": 50,
     "metadata": {},
     "output_type": "execute_result"
    }
   ],
   "source": [
    "vec1 = np.random.randint(0, 10, (5))\n",
    "vec1"
   ],
   "metadata": {
    "collapsed": false
   }
  },
  {
   "cell_type": "code",
   "execution_count": 56,
   "outputs": [
    {
     "data": {
      "text/plain": "dtype('int8')"
     },
     "execution_count": 56,
     "metadata": {},
     "output_type": "execute_result"
    }
   ],
   "source": [
    "vec1.dtype"
   ],
   "metadata": {
    "collapsed": false
   }
  },
  {
   "cell_type": "code",
   "execution_count": 54,
   "outputs": [
    {
     "data": {
      "text/plain": "array([5, 0, 8, 0, 8], dtype=int8)"
     },
     "execution_count": 54,
     "metadata": {},
     "output_type": "execute_result"
    }
   ],
   "source": [
    "#将vec1的数据类型转换为int8\n",
    "vec1 =np.array(vec1, dtype =np.int8)\n",
    "vec1"
   ],
   "metadata": {
    "collapsed": false
   }
  },
  {
   "cell_type": "code",
   "execution_count": 55,
   "outputs": [
    {
     "data": {
      "text/plain": "dtype('int8')"
     },
     "execution_count": 55,
     "metadata": {},
     "output_type": "execute_result"
    }
   ],
   "source": [
    "vec1.dtype"
   ],
   "metadata": {
    "collapsed": false
   }
  },
  {
   "cell_type": "code",
   "execution_count": 57,
   "outputs": [
    {
     "name": "stdout",
     "output_type": "stream",
     "text": [
      "[5 0 8 0 8]\n"
     ]
    }
   ],
   "source": [
    "print(vec1)"
   ],
   "metadata": {
    "collapsed": false
   }
  },
  {
   "cell_type": "code",
   "execution_count": 71,
   "outputs": [
    {
     "data": {
      "text/plain": "array([[[0, 9, 2, 9],\n        [5, 3, 9, 2],\n        [0, 8, 6, 2]],\n\n       [[8, 0, 0, 2],\n        [4, 2, 2, 0],\n        [2, 7, 2, 3]]])"
     },
     "execution_count": 71,
     "metadata": {},
     "output_type": "execute_result"
    }
   ],
   "source": [
    "#新建随机多维数据集\n",
    "arr1 = np.random.randint(0, 10, (2, 3, 4))\n",
    "arr1"
   ],
   "metadata": {
    "collapsed": false
   }
  },
  {
   "cell_type": "code",
   "execution_count": 62,
   "outputs": [
    {
     "data": {
      "text/plain": "dtype('int32')"
     },
     "execution_count": 62,
     "metadata": {},
     "output_type": "execute_result"
    }
   ],
   "source": [
    "arr1.dtype"
   ],
   "metadata": {
    "collapsed": false
   }
  },
  {
   "cell_type": "code",
   "execution_count": 63,
   "outputs": [
    {
     "data": {
      "text/plain": "array([[[7, 5, 4, 8],\n        [2, 5, 8, 0],\n        [3, 5, 4, 5]],\n\n       [[8, 0, 7, 1],\n        [4, 6, 4, 5],\n        [6, 4, 3, 5]]], dtype=int8)"
     },
     "execution_count": 63,
     "metadata": {},
     "output_type": "execute_result"
    }
   ],
   "source": [
    "#将arr1的数据类型转换为int8\n",
    "arr1 = np.array(arr1, dtype = np.int8)\n",
    "arr1"
   ],
   "metadata": {
    "collapsed": false
   }
  },
  {
   "cell_type": "code",
   "execution_count": 72,
   "outputs": [
    {
     "name": "stdout",
     "output_type": "stream",
     "text": [
      "[[[ 1.  2.  3.]\n",
      "  [ 4.  5.  6.]]\n",
      "\n",
      " [[ 3. nan  1.]\n",
      "  [ 4.  5.  6.]]]\n"
     ]
    }
   ],
   "source": [
    "arr2=np.array([[(1,2,3),(4,5,6)],[(3,np.nan,1),(4,5,6)]])\n",
    "print(arr2)"
   ],
   "metadata": {
    "collapsed": false
   }
  },
  {
   "cell_type": "code",
   "execution_count": 74,
   "outputs": [
    {
     "data": {
      "text/plain": "array([[[ 1.,  2.,  3.],\n        [ 4.,  5.,  6.]],\n\n       [[ 3., nan,  1.],\n        [ 4.,  5.,  6.]]])"
     },
     "execution_count": 74,
     "metadata": {},
     "output_type": "execute_result"
    }
   ],
   "source": [
    "arr2_copy = arr2.copy()\n",
    "arr2_copy"
   ],
   "metadata": {
    "collapsed": false
   }
  },
  {
   "cell_type": "code",
   "execution_count": 75,
   "outputs": [
    {
     "data": {
      "text/plain": "array([[[250.,   2.,   3.],\n        [  4.,   5.,   6.]],\n\n       [[  3.,  nan,   1.],\n        [  4.,   5.,   6.]]])"
     },
     "execution_count": 75,
     "metadata": {},
     "output_type": "execute_result"
    }
   ],
   "source": [
    "arr2_copy[0,0,0] = 250\n",
    "arr2_copy"
   ],
   "metadata": {
    "collapsed": false
   }
  },
  {
   "cell_type": "code",
   "execution_count": 76,
   "outputs": [
    {
     "data": {
      "text/plain": "array([[[ 1.,  2.,  3.],\n        [ 4.,  5.,  6.]],\n\n       [[ 3., nan,  1.],\n        [ 4.,  5.,  6.]]])"
     },
     "execution_count": 76,
     "metadata": {},
     "output_type": "execute_result"
    }
   ],
   "source": [
    "arr2"
   ],
   "metadata": {
    "collapsed": false
   }
  },
  {
   "cell_type": "code",
   "execution_count": 77,
   "outputs": [
    {
     "data": {
      "text/plain": "'D:\\\\Anaconda3\\\\envs\\\\shnu\\\\demo\\\\Numpy和Pandas数据分析使用指南'"
     },
     "execution_count": 77,
     "metadata": {},
     "output_type": "execute_result"
    }
   ],
   "source": [
    "%pwd"
   ],
   "metadata": {
    "collapsed": false
   }
  },
  {
   "cell_type": "code",
   "execution_count": 78,
   "outputs": [],
   "source": [
    "#保存arr2\n",
    "np.save('my_array', arr2)"
   ],
   "metadata": {
    "collapsed": false
   }
  },
  {
   "cell_type": "code",
   "execution_count": 79,
   "outputs": [
    {
     "name": "stdout",
     "output_type": "stream",
     "text": [
      "[[[ 1.  2.  3.]\n",
      "  [ 4.  5.  6.]]\n",
      "\n",
      " [[ 3. nan  1.]\n",
      "  [ 4.  5.  6.]]]\n"
     ]
    }
   ],
   "source": [
    "arr2_new = np.load('my_array.npy')\n",
    "print(arr2_new)"
   ],
   "metadata": {
    "collapsed": false
   }
  },
  {
   "cell_type": "code",
   "execution_count": 80,
   "outputs": [
    {
     "name": "stdout",
     "output_type": "stream",
     "text": [
      "[[ 1.05403198  0.16687131 -1.6526444   0.74226101 -1.892015  ]\n",
      " [ 1.15047781  0.40297586  1.14410747  0.25219232 -0.57457838]\n",
      " [-0.90262592  1.17429031  1.7228443  -0.27900631 -0.46573076]\n",
      " [ 0.99825868  0.61421318 -1.45158334 -0.1640655  -1.87770805]\n",
      " [-0.22737754  0.35571644 -0.27436631 -0.79939051 -0.18805414]]\n"
     ]
    }
   ],
   "source": [
    "mat1=np.random.randn(5,5)\n",
    "print(mat1)"
   ],
   "metadata": {
    "collapsed": false
   }
  },
  {
   "cell_type": "code",
   "execution_count": 81,
   "outputs": [],
   "source": [
    "#保存mat1\n",
    "np.savetxt('mat1.csv', mat1, delimiter = ',')"
   ],
   "metadata": {
    "collapsed": false
   }
  },
  {
   "cell_type": "code",
   "execution_count": 84,
   "outputs": [
    {
     "name": "stdout",
     "output_type": "stream",
     "text": [
      "1.054031978980027429e+00,1.668713066842735238e-01,-1.652644403805453743e+00,7.422610090586085896e-01,-1.892014998682021165e+00\n",
      "\n",
      "1.150477805065013737e+00,4.029758565876834786e-01,1.144107468610899625e+00,2.521923221406320859e-01,-5.745783802977060262e-01\n",
      "\n",
      "-9.026259202182836949e-01,1.174290308725689957e+00,1.722844297642379008e+00,-2.790063120815992614e-01,-4.657307633548777304e-01\n",
      "\n",
      "9.982586799360602114e-01,6.142131806109596415e-01,-1.451583342351153938e+00,-1.640655022568339449e-01,-1.877708053619857376e+00\n",
      "\n",
      "-2.273775438055784248e-01,3.557164381223567595e-01,-2.743663066207479018e-01,-7.993905063028946545e-01,-1.880541369950129438e-01\n",
      "\n"
     ]
    }
   ],
   "source": [
    "#查看mat1\n",
    "mat1file= open('mat1.csv', 'r')\n",
    "for l in mat1file:\n",
    "    print(l)"
   ],
   "metadata": {
    "collapsed": false
   }
  },
  {
   "cell_type": "code",
   "execution_count": 86,
   "outputs": [],
   "source": [
    "mat1file.close()"
   ],
   "metadata": {
    "collapsed": false
   }
  },
  {
   "cell_type": "code",
   "execution_count": null,
   "outputs": [],
   "source": [
    "#加载mat1\n",
    "mat1_new=np.loadtxt('mat1.csv', delimiter = ',')\n",
    "print(mat1_new)"
   ],
   "metadata": {
    "collapsed": false
   }
  }
 ],
 "metadata": {
  "kernelspec": {
   "display_name": "Python 3",
   "language": "python",
   "name": "python3"
  },
  "language_info": {
   "codemirror_mode": {
    "name": "ipython",
    "version": 2
   },
   "file_extension": ".py",
   "mimetype": "text/x-python",
   "name": "python",
   "nbconvert_exporter": "python",
   "pygments_lexer": "ipython2",
   "version": "2.7.6"
  }
 },
 "nbformat": 4,
 "nbformat_minor": 0
}
